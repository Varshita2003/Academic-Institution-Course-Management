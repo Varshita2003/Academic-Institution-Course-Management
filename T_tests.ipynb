{
  "nbformat": 4,
  "nbformat_minor": 0,
  "metadata": {
    "colab": {
      "provenance": [],
      "mount_file_id": "1HzMcIlop5uiY85REJtIxJYp2LaAaXRii",
      "authorship_tag": "ABX9TyPZ+FHD9vlF1/8/lKQnpSZJ"
    },
    "kernelspec": {
      "name": "python3",
      "display_name": "Python 3"
    },
    "language_info": {
      "name": "python"
    }
  },
  "cells": [
    {
      "cell_type": "code",
      "execution_count": null,
      "metadata": {
        "id": "WTa0LHsW6XxW"
      },
      "outputs": [],
      "source": [
        "import pandas as pd\n",
        "import numpy as np\n",
        "\n",
        "from scipy import stats"
      ]
    },
    {
      "cell_type": "code",
      "source": [
        "df = pd.read_csv('/content/drive/MyDrive/flattened_data.csv')"
      ],
      "metadata": {
        "id": "R1VkOsxYAvFr"
      },
      "execution_count": null,
      "outputs": []
    },
    {
      "cell_type": "markdown",
      "source": [
        "# Handicap"
      ],
      "metadata": {
        "id": "0IP4gW25B9ik"
      }
    },
    {
      "cell_type": "code",
      "source": [
        "for col in df.columns:\n",
        "  if col.endswith('points'):\n",
        "    print(col)\n",
        "    handicap = df[df['handicap'] == 1][col].dropna().tolist()\n",
        "    normal = df[df['handicap'] == 0][col].dropna().tolist()\n",
        "    # print(handicap)\n",
        "    # print('--------------------------------------------')\n",
        "    # print(normal)\n",
        "    t_stat, p_value = stats.ttest_ind(handicap, normal, equal_var=False)\n",
        "    print(f\"T-test between Handicap and Non-handicap for {col}:\")\n",
        "    print(f\"  T-statistic = {t_stat:.3f}, P-value = {p_value:.3f}\")\n",
        "    # break"
      ],
      "metadata": {
        "id": "U9rLkzzEBRyX"
      },
      "execution_count": null,
      "outputs": []
    },
    {
      "cell_type": "markdown",
      "source": [
        "# Audio Rate"
      ],
      "metadata": {
        "id": "zg2qdTG2EU2y"
      }
    },
    {
      "cell_type": "code",
      "source": [
        "for col in df.columns:\n",
        "  if col.endswith('points'):\n",
        "    print(col)\n",
        "    regular = df[df['audio_rate'] == 'regular'][col].dropna().tolist()\n",
        "    slow = df[df['audio_rate'] == 'slow'][col].dropna().tolist()\n",
        "    # print(handicap)\n",
        "    # print('--------------------------------------------')\n",
        "    # print(normal)\n",
        "    t_stat, p_value = stats.ttest_ind(regular, slow, equal_var=False)\n",
        "    print(f\"T-test between Regular and Slow for {col}:\")\n",
        "    print(f\"  T-statistic = {t_stat:.3f}, P-value = {p_value:.3f}\")\n",
        "    # break"
      ],
      "metadata": {
        "id": "9Equ774uEZhO"
      },
      "execution_count": null,
      "outputs": []
    }
  ]
}